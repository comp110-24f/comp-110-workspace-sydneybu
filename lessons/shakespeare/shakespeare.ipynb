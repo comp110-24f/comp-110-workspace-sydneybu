{
 "cells": [
  {
   "cell_type": "markdown",
   "metadata": {},
   "source": [
    "# Quantifying Shakespeare\n",
    "\n",
    "What are the frequency of letters Shakespeare used in their complete works?"
   ]
  },
  {
   "cell_type": "code",
   "execution_count": 6,
   "metadata": {},
   "outputs": [
    {
     "name": "stdout",
     "output_type": "stream",
     "text": [
      "195957\n",
      "But as the riper should by time decease,\n",
      "\n"
     ]
    }
   ],
   "source": [
    "lines: list[str] = []\n",
    "file_handle = open(\"shakespeare.txt\", \"r\", encoding = \"utf8\")\n",
    "lines = file_handle.readlines()\n",
    "file_handle.close()\n",
    "\n",
    "print(len(lines))\n",
    "print(lines[5])"
   ]
  },
  {
   "cell_type": "markdown",
   "metadata": {},
   "source": [
    "Removing non-alphabet character and converting alphabet characters to lowercase."
   ]
  },
  {
   "cell_type": "code",
   "execution_count": 7,
   "metadata": {},
   "outputs": [
    {
     "name": "stdout",
     "output_type": "stream",
     "text": [
      "butastheripershouldbytimedecease\n"
     ]
    }
   ],
   "source": [
    "clean_lines: list[str] = []\n",
    "\n",
    "for line in lines:\n",
    "    clean_line: str = \"\"\n",
    "    for character in line:\n",
    "        if character.isalpha():\n",
    "            clean_line += character\n",
    "    # updates the value of clean_line to be the value of clean_line in lowercase\n",
    "    clean_line = clean_line.lower()\n",
    "    clean_lines.append(clean_line)\n",
    "\n",
    "print(clean_lines[5])"
   ]
  },
  {
   "cell_type": "markdown",
   "metadata": {},
   "source": [
    "Great! Now we can count the frequencies of all character values in Shakespeare!"
   ]
  },
  {
   "cell_type": "code",
   "execution_count": 8,
   "metadata": {},
   "outputs": [
    {
     "name": "stdout",
     "output_type": "stream",
     "text": [
      "{'f': 86039, 'r': 252569, 'o': 332835, 'm': 118009, 'a': 311115, 'i': 270991, 'e': 485743, 's': 268258, 't': 354684, 'c': 91830, 'u': 137306, 'w': 96161, 'd': 159283, 'n': 261360, 'h': 256569, 'b': 64084, 'y': 99428, 'g': 72735, 'v': 40426, 'p': 61490, 'l': 181154, 'k': 37838, 'z': 1795, 'x': 5399, 'q': 4000, 'j': 4935, 'æ': 71, 'œ': 17, 'à': 18, 'é': 53, 'è': 38, 'â': 2, 'ç': 52, 'î': 2, 'ê': 6, 'ë': 4}\n"
     ]
    }
   ],
   "source": [
    "frequencies: dict[str, int] = {}\n",
    "\n",
    "# for every line in lines\n",
    "for line in clean_lines:\n",
    "    # for every character in line\n",
    "    for character in line:\n",
    "        # increase the count of occurrences of that character\n",
    "        if character in frequencies:\n",
    "            # update key-value pair\n",
    "            frequencies[character] += 1\n",
    "        else:\n",
    "            # make new key-value pair\n",
    "            frequencies[character] = 1\n",
    "\n",
    "print(frequencies)"
   ]
  },
  {
   "cell_type": "markdown",
   "metadata": {},
   "source": [
    "Count the total number of alphabetical character and compute the likelihood of 'e'"
   ]
  },
  {
   "cell_type": "code",
   "execution_count": 11,
   "metadata": {},
   "outputs": [
    {
     "name": "stdout",
     "output_type": "stream",
     "text": [
      "485743\n",
      "4056299\n",
      "The liklihood of e is: 0.11975029454189644\n"
     ]
    }
   ],
   "source": [
    "print(frequencies[\"e\"])\n",
    "\n",
    "total_alpha_characters: int = 0\n",
    "\n",
    "# compute the total number of characters in Shakespeare\n",
    "for key in frequencies:\n",
    "    total_alpha_characters += frequencies[key]\n",
    "\n",
    "print(total_alpha_characters)\n",
    "print(f\"The liklihood of e is: {frequencies[\"e\"]/total_alpha_characters}\")"
   ]
  }
 ],
 "metadata": {
  "kernelspec": {
   "display_name": "Python 3",
   "language": "python",
   "name": "python3"
  },
  "language_info": {
   "codemirror_mode": {
    "name": "ipython",
    "version": 3
   },
   "file_extension": ".py",
   "mimetype": "text/x-python",
   "name": "python",
   "nbconvert_exporter": "python",
   "pygments_lexer": "ipython3",
   "version": "3.12.4"
  }
 },
 "nbformat": 4,
 "nbformat_minor": 2
}
